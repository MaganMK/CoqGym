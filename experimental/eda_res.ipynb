{
 "cells": [
  {
   "cell_type": "code",
   "execution_count": 13,
   "id": "vertical-naples",
   "metadata": {},
   "outputs": [
    {
     "name": "stdout",
     "output_type": "stream",
     "text": [
      "transformations\n",
      "transformations\n",
      "transformations\n",
      "transformations\n",
      "transformations\n",
      "transformations\n",
      "transformations\n",
      "transformations\n",
      "transformations\n",
      "transformations\n",
      "transformations\n",
      "transformations\n",
      "transformations\n",
      "transformations\n",
      "transformations\n",
      "transformations\n",
      "transformations\n",
      "transformations\n",
      "transformations\n",
      "transformations\n",
      "transformations\n",
      "goal break up\n",
      "transformations\n",
      "goal break up\n",
      "transformations\n",
      "goal break up\n",
      "transformations\n",
      "goal break up\n",
      "transformations\n",
      "goal break up\n",
      "transformations\n",
      "goal break up\n",
      "transformations\n",
      "goal break up\n",
      "transformations\n",
      "goal break up\n",
      "transformations\n",
      "goal break up\n",
      "transformations\n",
      "goal break up\n"
     ]
    }
   ],
   "source": [
    "import pickle\n",
    "\n",
    "res1_path = \"./runs/beast/predictions/pred_000.pickle\"\n",
    "res1 = pickle.load(open(res1_path, 'rb'))\n",
    "\n",
    "for r in res1:\n",
    "    print(r[\"pred\"])\n",
    "    print(r[\"true\"])"
   ]
  },
  {
   "cell_type": "code",
   "execution_count": 22,
   "id": "controlled-creature",
   "metadata": {},
   "outputs": [
    {
     "name": "stdout",
     "output_type": "stream",
     "text": [
      "rewrite\n",
      "rewrite\n",
      "rewrite\n",
      "transformations\n",
      "transformations\n",
      "easy goals\n",
      "transformations\n",
      "transformations\n",
      "easy goals\n",
      "transformations\n",
      "transformations\n",
      "easy goals\n",
      "transformations\n",
      "transformations\n",
      "transformations\n",
      "goal break up\n",
      "transformations\n",
      "goal break up\n",
      "transformations\n",
      "goal break up\n",
      "transformations\n",
      "goal break up\n",
      "transformations\n",
      "transformations\n",
      "transformations\n",
      "transformations\n",
      "goal break up\n",
      "transformations\n",
      "goal break up\n",
      "transformations\n",
      "goal break up\n",
      "transformations\n",
      "goal break up\n",
      "transformations\n",
      "easy goals\n",
      "transformations\n",
      "transformations\n",
      "transformations\n",
      "transformations\n",
      "easy goals\n",
      "easy goals\n",
      "apply\n",
      "easy goals\n",
      "easy goals\n",
      "apply\n",
      "goal break up\n",
      "transformations\n",
      "easy goals\n",
      "transformations\n",
      "transformations\n"
     ]
    }
   ],
   "source": [
    "import json\n",
    "d_path = \"./proof_steps_mini/train/\"\n",
    "\n",
    "with open('./tactic_groups_reverse.json', 'r') as f: mp = json.load(f)\n",
    "\n",
    "for i in range(50):\n",
    "    if i < 10:\n",
    "        d_path = f\"./proof_steps_mini/train/0000000{i}.pickle\"\n",
    "    else:\n",
    "        d_path = f\"./proof_steps_mini/train/000000{i}.pickle\"\n",
    "    x = pickle.load(open(d_path, 'rb'))\n",
    "    print(mp[x[\"tactic\"][\"text\"].split(\" \")[0]])\n",
    "    "
   ]
  }
 ],
 "metadata": {
  "kernelspec": {
   "display_name": "Python 3",
   "language": "python",
   "name": "python3"
  },
  "language_info": {
   "codemirror_mode": {
    "name": "ipython",
    "version": 3
   },
   "file_extension": ".py",
   "mimetype": "text/x-python",
   "name": "python",
   "nbconvert_exporter": "python",
   "pygments_lexer": "ipython3",
   "version": "3.7.9"
  }
 },
 "nbformat": 4,
 "nbformat_minor": 5
}
